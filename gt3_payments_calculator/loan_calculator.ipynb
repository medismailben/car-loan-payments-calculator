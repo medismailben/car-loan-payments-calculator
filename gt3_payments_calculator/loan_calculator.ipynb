{
 "cells": [
  {
   "cell_type": "code",
   "execution_count": 46,
   "id": "29a623b1-654b-49d2-9274-5c9b795c33d4",
   "metadata": {},
   "outputs": [
    {
     "data": {
      "application/vnd.jupyter.widget-view+json": {
       "model_id": "184be3bc61c54a79be0a020d7dbc65de",
       "version_major": 2,
       "version_minor": 0
      },
      "text/plain": [
       "interactive(children=(IntSlider(value=230000, description='Car Price ($)', layout=Layout(height='auto', width=…"
      ]
     },
     "metadata": {},
     "output_type": "display_data"
    },
    {
     "data": {
      "text/plain": [
       "<function __main__.plot_loan_payments(car_price, sales_tax_rate, down_payment, annual_rate, loan_term_years)>"
      ]
     },
     "execution_count": 46,
     "metadata": {},
     "output_type": "execute_result"
    }
   ],
   "source": [
    "import numpy as np\n",
    "import plotly.graph_objs as go\n",
    "import plotly.express as px\n",
    "from ipywidgets import interact, FloatSlider, IntSlider, Layout\n",
    "from plotly.subplots import make_subplots\n",
    "\n",
    "def calculate_monthly_payment(principal, annual_rate, term_months):\n",
    "    monthly_rate = annual_rate / 12\n",
    "    numerator = principal * monthly_rate * (1 + monthly_rate) ** term_months\n",
    "    denominator = (1 + monthly_rate) ** term_months - 1\n",
    "    monthly_payment = numerator / denominator\n",
    "    return monthly_payment\n",
    "\n",
    "def calculate_payments(principal, annual_rate, term_months):\n",
    "    monthly_payment = calculate_monthly_payment(principal, annual_rate, term_months)\n",
    "    total_payment = monthly_payment * term_months\n",
    "    total_interest = total_payment - principal\n",
    "    return monthly_payment, total_payment, total_interest\n",
    "\n",
    "def plot_loan_payments(car_price, sales_tax_rate, down_payment, annual_rate, loan_term_years):\n",
    "    total_cost = car_price * (1 + sales_tax_rate)\n",
    "    loan_principal = total_cost - down_payment\n",
    "    term_months = loan_term_years * 12\n",
    "    term_months_short = 12  # 1-year term\n",
    "\n",
    "    if loan_principal <= 0:\n",
    "        print(\"Down payment exceeds or matches total cost. No loan needed.\")\n",
    "        return\n",
    "    \n",
    "    # Calculate payments for the selected loan term\n",
    "    monthly_payment, total_payment, total_interest = calculate_payments(loan_principal, annual_rate, term_months)\n",
    "\n",
    "    # Calculate payments for a 1-year loan term for comparison\n",
    "    monthly_payment_short, total_payment_short, total_interest_short = calculate_payments(loan_principal, annual_rate, term_months_short)\n",
    "\n",
    "    payments = np.arange(1, term_months + 1)\n",
    "    interest_payments = [loan_principal * (annual_rate / 12) * ((1 + annual_rate / 12) ** i) / ((1 + annual_rate / 12) ** term_months - 1) for i in range(1, term_months + 1)]\n",
    "    principal_payments = [monthly_payment - ip for ip in interest_payments]\n",
    "    remaining_balance = [loan_principal - sum(principal_payments[:i]) for i in range(1, term_months + 1)]\n",
    "\n",
    "    payments_short = np.arange(1, term_months_short + 1)\n",
    "    interest_payments_short = [loan_principal * (annual_rate / 12) * ((1 + annual_rate / 12) ** i) / ((1 + annual_rate / 12) ** term_months_short - 1) for i in range(1, term_months_short + 1)]\n",
    "    principal_payments_short = [monthly_payment_short - ip for ip in interest_payments_short]\n",
    "    remaining_balance_short = [loan_principal - sum(principal_payments_short[:i]) for i in range(1, term_months_short + 1)]\n",
    "\n",
    "    # Create subplots\n",
    "    fig = make_subplots(rows=3, cols=1, shared_xaxes=True,\n",
    "                        subplot_titles=(\"Monthly Loan Payments\", \"Remaining Loan Balance Over Time\", \"Interest Paid Comparison\"),\n",
    "                        vertical_spacing=0.1)\n",
    "\n",
    "    # Add principal and interest payment traces\n",
    "    fig.add_trace(go.Scatter(x=payments, y=principal_payments, mode='lines', name=f'Principal Payment ({loan_term_years}y)'), row=1, col=1)\n",
    "    fig.add_trace(go.Scatter(x=payments, y=interest_payments, mode='lines', name=f'Interest Payment ({loan_term_years}y)'), row=1, col=1)\n",
    "\n",
    "    # Add remaining balance trace\n",
    "    fig.add_trace(go.Scatter(x=payments, y=remaining_balance, mode='lines', name=f'Remaining Balance ({loan_term_years}y)', line=dict(color='firebrick')), row=2, col=1)\n",
    "\n",
    "    # Add short term (1 year) comparison traces\n",
    "    fig.add_trace(go.Scatter(x=payments_short, y=principal_payments_short, mode='lines', name='Principal Payment (1y)', line=dict(dash='dot')), row=1, col=1)\n",
    "    fig.add_trace(go.Scatter(x=payments_short, y=interest_payments_short, mode='lines', name='Interest Payment (1y)', line=dict(dash='dot')), row=1, col=1)\n",
    "    fig.add_trace(go.Scatter(x=payments_short, y=remaining_balance_short, mode='lines', name='Remaining Balance (1y)', line=dict(color='firebrick', dash='dot')), row=2, col=1)\n",
    "\n",
    "    selected_loan_term_years = f\"{loan_term_years} year\"\n",
    "    if loan_term_years > 1:\n",
    "        selected_loan_term_years += 's'\n",
    "    \n",
    "    # Add total interest paid comparison\n",
    "    fig.add_trace(go.Bar(x=['1 year', selected_loan_term_years], y=[total_interest_short, total_interest], name='Total Interest Paid'), row=3, col=1)\n",
    "\n",
    "    # Update layout\n",
    "    fig.update_layout(height=900, width=1200, title_text=\"Loan Payment Schedule and Interest Comparison\")\n",
    "    fig.update_xaxes(title_text=\"Month\")\n",
    "    fig.update_yaxes(title_text=\"Payment ($)\", row=1, col=1)\n",
    "    fig.update_yaxes(title_text=\"Remaining Balance ($)\", row=2, col=1)\n",
    "    fig.update_yaxes(title_text=\"Total Interest Paid ($)\", row=3, col=1)\n",
    "    fig.update_layout(legend=dict(x=0.75, y=0.99, bordercolor=\"Black\", borderwidth=1))\n",
    "    fig.update_layout(margin=dict(l=20, r=20, t=50, b=20))\n",
    "\n",
    "    fig.show()\n",
    "\n",
    "    print(f\"Monthly Payment (1 year): ${monthly_payment_short:.2f}\")\n",
    "    print(f\"Total Payment (1 year): ${total_payment_short:.2f}\")\n",
    "    print(f\"Total Interest Paid (1 year): ${total_interest_short:.2f}\")\n",
    "    print(f\"Monthly Payment ({selected_loan_term_years}): ${monthly_payment:.2f}\")\n",
    "    print(f\"Total Payment ({selected_loan_term_years}): ${total_payment:.2f}\")\n",
    "    print(f\"Total Interest Paid ({selected_loan_term_years}): ${total_interest:.2f}\")\n",
    "\n",
    "# Initial values\n",
    "car_price = 230000\n",
    "sales_tax_rate = 0.0913\n",
    "down_payment = 200000\n",
    "apr = 0.045\n",
    "term = 5\n",
    "\n",
    "style = {'description_width': 'initial'}\n",
    "slider_layout = Layout(width='50%', height='auto')\n",
    "\n",
    "interact(\n",
    "    plot_loan_payments,\n",
    "    car_price=IntSlider(value=car_price, min=10000, max=500000, step=5000, description='Car Price ($)', layout=slider_layout, style=style),\n",
    "    sales_tax_rate=FloatSlider(value=sales_tax_rate, min=0, max=0.1, step=0.0025, description='Sales Tax Rate', layout=slider_layout, style=style),\n",
    "    down_payment=IntSlider(value=down_payment, min=0, max=500000, step=5000, description='Down Payment ($)', layout=slider_layout, style=style),\n",
    "    annual_rate=FloatSlider(value=apr, min=0.01, max=0.1, step=0.0025, description='Annual Interest Rate', layout=slider_layout, style=style),\n",
    "    loan_term_years=IntSlider(value=term, min=2, max=7, step=1, description='Loan Term (years)', layout=slider_layout, style=style)\n",
    ")"
   ]
  },
  {
   "cell_type": "code",
   "execution_count": null,
   "id": "4a7343aa-1517-44bd-9b37-ad3327943a52",
   "metadata": {},
   "outputs": [],
   "source": []
  }
 ],
 "metadata": {
  "kernelspec": {
   "display_name": "Python 3 (ipykernel)",
   "language": "python",
   "name": "python3"
  },
  "language_info": {
   "codemirror_mode": {
    "name": "ipython",
    "version": 3
   },
   "file_extension": ".py",
   "mimetype": "text/x-python",
   "name": "python",
   "nbconvert_exporter": "python",
   "pygments_lexer": "ipython3",
   "version": "3.12.4"
  }
 },
 "nbformat": 4,
 "nbformat_minor": 5
}
